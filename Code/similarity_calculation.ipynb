{
  "nbformat": 4,
  "nbformat_minor": 0,
  "metadata": {
    "colab": {
      "provenance": [],
      "gpuType": "A100",
      "machine_shape": "hm"
    },
    "kernelspec": {
      "name": "python3",
      "display_name": "Python 3"
    },
    "language_info": {
      "name": "python"
    },
    "accelerator": "GPU"
  },
  "cells": [
    {
      "cell_type": "code",
      "execution_count": null,
      "metadata": {
        "id": "IX-RabXQnBzy"
      },
      "outputs": [],
      "source": [
        "!pip install transformers"
      ]
    },
    {
      "cell_type": "code",
      "source": [
        "!pip install sentence_transformers"
      ],
      "metadata": {
        "id": "dAhg7PK3tDDc"
      },
      "execution_count": null,
      "outputs": []
    },
    {
      "cell_type": "code",
      "source": [
        "def compare_sentences(original_sentence, sentence_list):\n",
        "      original_embedding = sbert_model.encode(original_sentence)\n",
        "      compare_embedding = sbert_model.encode(sentence_list)\n",
        "\n",
        "      sim = util.cos_sim(original_embedding, compare_embedding).tolist()[0]\n",
        "      # sim = util.dot_score(original_embedding, compare_embedding).tolist()[0]\n",
        "\n",
        "      return sim\n"
      ],
      "metadata": {
        "id": "U_4zB5bxtTy6"
      },
      "execution_count": null,
      "outputs": []
    },
    {
      "cell_type": "code",
      "source": [
        "data_dir = '/content/'\n",
        "\n",
        "similar_answers = data_dir + '1.all_questions.csv'\n",
        "similar_answers_score = data_dir + '2.all_questions_ similarity_scores.csv'"
      ],
      "metadata": {
        "id": "RlvUUIEaAa81"
      },
      "execution_count": null,
      "outputs": []
    },
    {
      "cell_type": "code",
      "source": [
        "# suppress warnings\n",
        "import warnings\n",
        "warnings.filterwarnings(\"ignore\")\n"
      ],
      "metadata": {
        "id": "nEkS7Rp2XkgL"
      },
      "execution_count": null,
      "outputs": []
    },
    {
      "cell_type": "code",
      "source": [
        "import json\n",
        "import pandas as pd\n",
        "\n",
        "def calculate_similarity_score(data_source): #, input, output):\n",
        "\n",
        "  global similarity_json\n",
        "  global question_answers_dict\n",
        "\n",
        "  # read similar_answers file\n",
        "  df = pd.read_csv(similar_answers)\n",
        "\n",
        "  df_out = pd.read_csv(similar_answers_score)\n",
        "  # df_out = pd.read_csv(input)\n",
        "\n",
        "  df['question_keyword'] = df['question_keyword'].str.lower()\n",
        "  df_out['question_keyword'] = df_out['question_keyword'].str.lower()\n",
        "\n",
        "  df_master = pd.DataFrame()\n",
        "\n",
        "\n",
        "\n",
        "  # group df by id and question_keyword\n",
        "  df_grouped = df.groupby(['id', 'question_keyword'])\n",
        "\n",
        "  #print(df_grouped.groups)\n",
        "\n",
        "  # iterate over the groups\n",
        "  for name, group in df_grouped:\n",
        "\n",
        "\n",
        "    print(name)\n",
        "    id = name[0]\n",
        "    question_keyword = name[1]\n",
        "    # print(question_keyword)\n",
        "\n",
        "    # get all the question_approaches\n",
        "    question_approaches = group['question_approach'].unique()\n",
        "\n",
        "    # loop over the question_approaches\n",
        "    for question_approach in question_approaches:\n",
        "      # get the question and answer with question_approach as Ask deeper question\n",
        "\n",
        "      score_suffix = ''\n",
        "      question_column = 'question'\n",
        "      answer_column = 'answer'\n",
        "\n",
        "      if data_source == 'qaqa':\n",
        "        score_suffix = '_qaqa'\n",
        "        question_column = 'new_question'\n",
        "        answer_column = 'new_answer'\n",
        "\n",
        "        # This is the base answer, so always same\n",
        "        if question_approach == 'Ask deeper question':\n",
        "          answer_column = 'answer'\n",
        "\n",
        "      question =         group[group['question_approach'] == question_approach][question_column].values[0]\n",
        "      answer =           group[group['question_approach'] == question_approach][answer_column].values[0]\n",
        "\n",
        "      # print(question_keyword)\n",
        "      # print(question)\n",
        "      # print(answer)\n",
        "\n",
        "      if question_approach == 'Ask deeper question':\n",
        "        question_answers_dict['base-answer'] = answer\n",
        "\n",
        "      if question_approach == 'Challenge with how':\n",
        "        question_answers_dict['how-question'] = question\n",
        "        question_answers_dict['how-answer'] = answer\n",
        "\n",
        "      if question_approach == 'Challenge with why':\n",
        "        question_answers_dict['why-question'] = question\n",
        "        question_answers_dict['why-answer'] = answer\n",
        "\n",
        "      if question_approach == 'Challenge with really':\n",
        "        question_answers_dict['really-question'] = question\n",
        "        question_answers_dict['really-answer'] = answer\n",
        "\n",
        "\n",
        "    # print the question_answers_dict in readable format with indentation and newlines\n",
        "    question_answers_json = json.dumps(question_answers_dict, indent=4)\n",
        "    # print(question_answers_json)\n",
        "\n",
        "    challenge_types = ['how', 'why', 'really']\n",
        "\n",
        "    for challenge_type in challenge_types:\n",
        "      # get the similarity score for the question and answer\n",
        "      similarity_score_questions, similarity_score_answers = get_similarity_score(question_answers_dict, challenge_type)\n",
        "\n",
        "      question_approach = 'Challenge with '+challenge_type\n",
        "\n",
        "      # get the row from df_out that matches with id, question_keyword and question_approach\n",
        "      df_out_row = df_out.loc[(df_out['id'] == id) & (df_out['question_keyword'] == question_keyword) & (df_out['question_approach'] == question_approach)]\n",
        "\n",
        "      # update the similarity score of df_out_row\n",
        "      df_out_row['sim_ques_ans'+score_suffix] = similarity_score_questions[0]\n",
        "      df_out_row['sim_ques_how'+score_suffix] = similarity_score_questions[1]\n",
        "      df_out_row['sim_ques_why'+score_suffix] = similarity_score_questions[2]\n",
        "      df_out_row['sim_ques_really'+score_suffix] = similarity_score_questions[3]\n",
        "\n",
        "      df_out_row['sim_ans_base'+score_suffix] = similarity_score_answers[0]\n",
        "      df_out_row['sim_ans_how'+score_suffix] = similarity_score_answers[1]\n",
        "      df_out_row['sim_ans_why'+score_suffix] = similarity_score_answers[2]\n",
        "      df_out_row['sim_ans_really'+score_suffix] = similarity_score_answers[3]\n",
        "\n",
        "      # update the df_out_row in df_out\n",
        "      df_out.loc[(df_out['id'] == id) & (df_out['question_keyword'] == question_keyword) & (df_out['question_approach'] == question_approach)] = df_out_row\n",
        "\n",
        "      df_out.to_csv(similar_answers_score, index=False)\n",
        "\n",
        "      # somehow df_out is not being written into file.\n",
        "      df_master = df_master.append(df_out_row, ignore_index=True)\n",
        "      #print(df_master)\n",
        "\n",
        "    # break\n",
        "    # if id > 1:\n",
        "      # break\n",
        "  # df_master.to_csv(output, index=False)\n"
      ],
      "metadata": {
        "id": "okYJEOunA60J"
      },
      "execution_count": null,
      "outputs": []
    },
    {
      "cell_type": "code",
      "source": [
        "from sentence_transformers import util\n",
        "from sentence_transformers import SentenceTransformer\n",
        "\n",
        "\n",
        "sbert_model = SentenceTransformer('bert-base-nli-stsb-mean-tokens')\n",
        "sbert_model = SentenceTransformer('roberta-large-nli-stsb-mean-tokens')\n",
        "sbert_model = SentenceTransformer('paraphrase-mpnet-base-v2')\n",
        "sbert_model = SentenceTransformer('all-mpnet-base-v2')\n",
        "sbert_model = SentenceTransformer('multi-qa-MiniLM-L6-cos-v1')  # ../3rd_models/multi-qa-MiniLM-L6-cos-v1\n",
        "\n"
      ],
      "metadata": {
        "id": "d_EYQ8lIs9I4"
      },
      "execution_count": null,
      "outputs": []
    },
    {
      "cell_type": "code",
      "source": [
        "%%sh\n",
        "# rm '/content/1.all_questions.csv'\n",
        "rm '/content/2.all_questions_ similarity_scores.csv'"
      ],
      "metadata": {
        "id": "rTG-wt5FQZN6"
      },
      "execution_count": null,
      "outputs": []
    },
    {
      "cell_type": "code",
      "source": [
        "question_answers_dict = {'base-answer': '',\n",
        "                   'how-question': '',\n",
        "                   'why-question': '',\n",
        "                   'really-question': '',\n",
        "                   'how-answer': '',\n",
        "                   'why-answer': '',\n",
        "                   'really-answer': ''\n",
        "                   }\n",
        "\n",
        "similarity_json = {'how-question': {'simiarity_score_with_how_answer':0.0, 'similarity_score_with_how_question': 0.0, 'similarity_score_with_why_question': 0.0, 'similarity_score_with_really_question': 0.0},\n",
        "                   'why-question': {'simiarity_score_with_why_answer':0.0, 'similarity_score_with_how_question': 0.0, 'similarity_score_with_why_question': 0.0, 'similarity_score_with_really_question': 0.0},\n",
        "                   'really-question': {'simiarity_score_with_really_answer':0.0, 'similarity_score_with_how_question': 0.0, 'similarity_score_with_why_question': 0.0, 'similarity_score_with_really_question': 0.0},\n",
        "                    'how-answer': {'simiarity_score_with_base_answer':0.0, 'similarity_score_with_how_answer': 0.0, 'similarity_score_with_why_answer': 0.0, 'similarity_score_with_really_answer': 0.0},\n",
        "                    'why-answer': {'simiarity_score_with_base_answer':0.0, 'similarity_score_with_how_answer': 0.0, 'similarity_score_with_why_answer': 0.0, 'similarity_score_with_really_answer': 0.0},\n",
        "                    'really-answer': {'simiarity_score_with_base_answer':0.0, 'similarity_score_with_how_answer': 0.0, 'similarity_score_with_why_answer': 0.0, 'similarity_score_with_really_answer': 0.0}\n",
        "                   }\n",
        "\n",
        "\n",
        "def get_similarity_score(question_answers_dict, challenge_type):\n",
        "  original = question_answers_dict[challenge_type+\"-question\"]\n",
        "  sentences_list = [question_answers_dict[challenge_type+\"-answer\"], question_answers_dict[\"how-question\"], question_answers_dict[\"why-question\"], question_answers_dict[\"really-question\"]]\n",
        "\n",
        "  similarity_score_questions = compare_sentences(original, sentences_list)\n",
        "  # print(similarity_score_questions)\n",
        "\n",
        "  original = question_answers_dict[challenge_type+\"-answer\"]\n",
        "  sentences_list = [question_answers_dict[\"base-answer\"], question_answers_dict[\"how-answer\"], question_answers_dict[\"why-answer\"], question_answers_dict[\"really-answer\"]]\n",
        "\n",
        "  similarity_score_answers = compare_sentences(original, sentences_list)\n",
        "\n",
        "  return similarity_score_questions, similarity_score_answers\n"
      ],
      "metadata": {
        "id": "mnm2DBMMB96j"
      },
      "execution_count": null,
      "outputs": []
    },
    {
      "cell_type": "code",
      "source": [
        "calculate_similarity_score('base')\n",
        "calculate_similarity_score('qaqa')\n"
      ],
      "metadata": {
        "id": "ztTA3JBwKKdr"
      },
      "execution_count": null,
      "outputs": []
    }
  ]
}